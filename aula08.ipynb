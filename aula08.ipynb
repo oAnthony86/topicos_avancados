{
 "cells": [
  {
   "cell_type": "code",
   "execution_count": 5,
   "metadata": {},
   "outputs": [],
   "source": [
    "import pandas as pd \n",
    "import numpy as np \n",
    "data = pd.read_feather('base/gs.feather')"
   ]
  },
  {
   "cell_type": "code",
   "execution_count": 10,
   "metadata": {},
   "outputs": [],
   "source": [
    "def zscore(df, grupo, var, score):\n",
    "    media = df[var].mean()\n",
    "    dpadr = df[var].std()\n",
    "    gr = df.groupby(grupo)[var]\n",
    "    dc = gr.describe()\n",
    "    dc = dc.reset_index()\n",
    "    dc[score] = dc['mean'].apply(lambda x : (x - media) / dpadr)\n",
    "    dcz = dc[[grupo, score]]\n",
    "    df = df.merge(dcz, on=grupo, how='left')\n",
    "    return df "
   ]
  },
  {
   "cell_type": "code",
   "execution_count": null,
   "metadata": {},
   "outputs": [],
   "source": [
    "## Classificação\n",
    "dimensao = 'Customer ID'\n",
    "medidas = ['Sales', 'Profit', 'Quantity']\n",
    "grupo = data.groupby(dimensao)[medidas].mean().reset_index()\n",
    "for medida in medidas:\n",
    "    grupo = zscore(grupo, dimensao, medida, 'z'+medida)\n",
    "zmedidas = ['z'+med for med in medidas]\n",
    "##zmedidas\n",
    "zgrupo = grupo[zmedidas]\n",
    "grupo['score'] = zgrupo.sum(axis=1)\n",
    "media_score = grupo['score'].mean()\n",
    "dpadr_score = grupo['score'].std()\n",
    "grupo['classe'] = grupo['score'].apply(\n",
    "    lambda x : int((x - media_score) / dpadr_score) + 3 \n",
    ")\n",
    "grupo['rank'] = grupo['score'].rank(ascending=False)\n",
    "grupo['lucro'] = grupo['Profit'].apply(lambda x : 0 if x < 0 else 1)\n",
    "grupo"
   ]
  },
  {
   "cell_type": "code",
   "execution_count": null,
   "metadata": {},
   "outputs": [],
   "source": [
    "grupo.to_feather('base/classificacaoz_consumidor.feather')"
   ]
  }
 ],
 "metadata": {
  "kernelspec": {
   "display_name": "Python 3.8.10 64-bit",
   "language": "python",
   "name": "python3"
  },
  "language_info": {
   "codemirror_mode": {
    "name": "ipython",
    "version": 3
   },
   "file_extension": ".py",
   "mimetype": "text/x-python",
   "name": "python",
   "nbconvert_exporter": "python",
   "pygments_lexer": "ipython3",
   "version": "3.8.10"
  },
  "orig_nbformat": 4,
  "vscode": {
   "interpreter": {
    "hash": "916dbcbb3f70747c44a77c7bcd40155683ae19c65e1c03b4aa3499c5328201f1"
   }
  }
 },
 "nbformat": 4,
 "nbformat_minor": 2
}
